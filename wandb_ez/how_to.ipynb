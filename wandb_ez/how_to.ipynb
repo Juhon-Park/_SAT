{
 "cells": [
  {
   "cell_type": "code",
   "execution_count": 1,
   "metadata": {},
   "outputs": [],
   "source": [
    "import wandb\n",
    "import argparse\n",
    "\n",
    "parser = argparse.ArgumentParser(description='Training')\n",
    "parser.add_argument('--results-dir', default='./results', help='results dir')\n",
    "parser.add_argument('--dataset', default='imagenet', help='dataset name or folder')\n",
    "parser.add_argument('--train_split', default='train', help='train split name')\n",
    "parser.add_argument('--model', default='resnet18', help='model architecture')\n",
    "parser.add_argument('--workers', default=0, type=int, help='number of data loading workers')\n",
    "parser.add_argument('--epochs', default=200, type=int, help='number of epochs')\n",
    "parser.add_argument('--start-epoch', default=0, type=int, help='manual epoch number')\n",
    "parser.add_argument('--batch-size', default=128, type=int, help='mini-batch size')\n",
    "parser.add_argument('--optimizer', default='sgd', help='optimizer function used')\n",
    "parser.add_argument('--lr', default=0.1, type=float, help='initial learning rate')\n",
    "parser.add_argument('--lr_decay', default='100,150,180', help='lr decay steps')\n",
    "parser.add_argument('--weight-decay', default=3e-4, type=float, help='weight decay')\n",
    "parser.add_argument('--print-freq', '-p', default=20, type=int, help='print frequency')\n",
    "parser.add_argument('--pretrain', default=None, help='path to pretrained full-precision checkpoint')\n",
    "parser.add_argument('--resume', default=None, help='path to latest checkpoint')\n",
    "parser.add_argument('--bit_width_list', default='4', help='bit width list')\n",
    "args = parser.parse_args([])"
   ]
  },
  {
   "cell_type": "code",
   "execution_count": null,
   "metadata": {},
   "outputs": [],
   "source": [
    "# First add the following argument to your argparse. If the parameter is True, wandb will be used for logging\n",
    "parser.add_argument('--wandb_log', default=False, type=bool, help='use wandb logging feature')\n",
    "args = parser.parse_args()"
   ]
  },
  {
   "cell_type": "code",
   "execution_count": null,
   "metadata": {},
   "outputs": [],
   "source": [
    "# wandb_log is True, import wandb_ez package and initialize a run and pass args that we have defined above as arguments to the init funciton. \n",
    "# args should contatin all the parameters involved in the experiment.\n",
    "if args.wandb_log:\n",
    "    from wandb_ez import wandb_ez\n",
    "    run = wandb_ez.init(args)"
   ]
  },
  {
   "cell_type": "code",
   "execution_count": null,
   "metadata": {},
   "outputs": [],
   "source": [
    "# log data and model\n",
    "if args.wandb_log:\n",
    "    wandb_ez.log({\"num_param\": num_parameters,\n",
    "                    \"curr_lr\": lr_scheduler.get_last_lr()[0],\n",
    "                    \"train_loss\": train_loss[-1], \n",
    "                    \"train_prec1\": train_prec1[-1],\n",
    "                    \"train_prec5\": train_prec5[-1],\n",
    "                    \"val_loss\": val_loss[-1],\n",
    "                    \"val_prec1\": val_prec1[-1],\n",
    "                    \"val_prec5\": val_prec5[-1]})\n",
    "    wandb_ez.upload_model(args.results_dir + '/ckpt')"
   ]
  },
  {
   "cell_type": "code",
   "execution_count": null,
   "metadata": {},
   "outputs": [],
   "source": [
    "# Once the experiment is complete, terminate the wandb run\n",
    "if args.wandb_log:\n",
    "    wandb_ez.finish()"
   ]
  },
  {
   "cell_type": "code",
   "execution_count": null,
   "metadata": {},
   "outputs": [],
   "source": []
  }
 ],
 "metadata": {
  "kernelspec": {
   "display_name": "Python 3",
   "language": "python",
   "name": "python3"
  },
  "language_info": {
   "codemirror_mode": {
    "name": "ipython",
    "version": 3
   },
   "file_extension": ".py",
   "mimetype": "text/x-python",
   "name": "python",
   "nbconvert_exporter": "python",
   "pygments_lexer": "ipython3",
   "version": "3.10.12"
  }
 },
 "nbformat": 4,
 "nbformat_minor": 2
}
